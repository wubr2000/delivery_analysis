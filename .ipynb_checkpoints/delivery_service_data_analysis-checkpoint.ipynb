{
 "cells": [
  {
   "cell_type": "code",
   "execution_count": 1,
   "metadata": {
    "collapsed": false,
    "slideshow": {
     "slide_type": "skip"
    }
   },
   "outputs": [
    {
     "name": "stdout",
     "output_type": "stream",
     "text": [
      "Populating the interactive namespace from numpy and matplotlib\n"
     ]
    }
   ],
   "source": [
    "%pylab inline\n",
    "from pandas.io import gbq\n",
    "import pandas as pd\n",
    "import numpy as np\n",
    "import scipy as sp\n",
    "import random \n",
    "import math\n",
    "pd.set_option('display.max_columns', 500) #show more columns\n",
    "pd.set_option('display.width', 1000)\n",
    "import cPickle \n",
    "import os\n",
    "\n",
    "from sklearn import metrics\n",
    "from sklearn.preprocessing import StandardScaler\n",
    "from sklearn.preprocessing import scale, normalize\n",
    "from sklearn.metrics import roc_auc_score\n",
    "\n",
    "from sklearn.ensemble import RandomForestClassifier as RF\n",
    "from sklearn.neighbors import KNeighborsClassifier as KNN\n",
    "from sklearn.linear_model import LogisticRegression\n",
    "from sklearn.naive_bayes import GaussianNB, MultinomialNB\n",
    "from sklearn import metrics \n",
    "\n",
    "from scipy import stats\n",
    "\n",
    "import re \n",
    "from time import time\n",
    "import json\n",
    "\n",
    "import matplotlib.pyplot as plt\n",
    "from pandas.tools.plotting import scatter_matrix\n",
    "import seaborn as sns"
   ]
  },
  {
   "cell_type": "markdown",
   "metadata": {
    "slideshow": {
     "slide_type": "slide"
    }
   },
   "source": [
    "# Delivery Service Data Analysis\n",
    "\n",
    "### Bruno Wu"
   ]
  },
  {
   "cell_type": "markdown",
   "metadata": {
    "slideshow": {
     "slide_type": "slide"
    }
   },
   "source": [
    "## Read data and clean up\n",
    "- The data is read into a Python Pandas dataframe\n",
    "- Some clean up is needed to get the correct regions/cities\n",
    "- Turns out there are 3 unique cities in this dataset"
   ]
  },
  {
   "cell_type": "code",
   "execution_count": 2,
   "metadata": {
    "collapsed": false,
    "slideshow": {
     "slide_type": "fragment"
    }
   },
   "outputs": [
    {
     "name": "stdout",
     "output_type": "stream",
     "text": [
      "['chi' 'nyc' 'sf']\n"
     ]
    }
   ],
   "source": [
    "#Read in file\n",
    "df = pd.read_csv('delivery_data.csv')\n",
    "\n",
    "#Clean 'sf' and 'sf '\n",
    "df['region'] = df.region.str.replace('sf ', 'sf')\n",
    "\n",
    "cities_list = unique(df.region)\n",
    "print cities_list"
   ]
  },
  {
   "cell_type": "markdown",
   "metadata": {
    "slideshow": {
     "slide_type": "slide"
    }
   },
   "source": [
    "## Convert UTC to local time for each city\n",
    "\n",
    "- By converting UTC time to local time, we have an \"apples-to-apples\" comparison across cities in terms of their hours of operation. \n",
    "- This allows us to compare across cities at local times and come up with insights on when to staff the Customer Support Team for each city."
   ]
  },
  {
   "cell_type": "code",
   "execution_count": 3,
   "metadata": {
    "collapsed": false,
    "slideshow": {
     "slide_type": "fragment"
    }
   },
   "outputs": [],
   "source": [
    "#Switch from UTC to Local Times\n",
    "from datetime import datetime\n",
    "from dateutil import tz\n",
    "\n",
    "from_zone = tz.gettz('UTC')\n",
    "to_nyc_zone = tz.gettz('America/New_York')\n",
    "to_chi_zone = tz.gettz('America/Chicago')\n",
    "to_sf_zone = tz.gettz('America/Los_Angeles')\n",
    "\n",
    "# df['time'] = df['time'].map(lambda x: re.sub('UTC', '', x))\n",
    "# df['time'] = df['time'].map(lambda x: re.sub('+0000', '', x))\n",
    "\n",
    "# df.time = df.time.replace(' +0000', '')\n",
    "# df.time = df.time.str.replace('UTC', '')\n",
    "# df.time = df.time.map(lambda x: pd.to_datetime(x))\n",
    "df.time = df.time.map(lambda x: str(pd.to_datetime(x)))\n",
    "\n",
    "df.loc[df.region == 'chi', 'time'] = df[df.region == 'chi']['time'].map(lambda x: datetime.strptime(x, '%Y-%m-%d %H:%M:%S').replace(tzinfo=from_zone).astimezone(to_chi_zone))\n",
    "df.loc[df.region == 'nyc', 'time'] = df[df.region == 'nyc']['time'].map(lambda x: datetime.strptime(x, '%Y-%m-%d %H:%M:%S').replace(tzinfo=from_zone).astimezone(to_nyc_zone))\n",
    "df.loc[df.region == 'sf', 'time'] = df[df.region == 'sf']['time'].map(lambda x: datetime.strptime(x, '%Y-%m-%d %H:%M:%S').replace(tzinfo=from_zone).astimezone(to_sf_zone))"
   ]
  },
  {
   "cell_type": "code",
   "execution_count": 4,
   "metadata": {
    "collapsed": false,
    "slideshow": {
     "slide_type": "skip"
    }
   },
   "outputs": [
    {
     "data": {
      "text/html": [
       "<div>\n",
       "<table border=\"1\" class=\"dataframe\">\n",
       "  <thead>\n",
       "    <tr style=\"text-align: right;\">\n",
       "      <th></th>\n",
       "      <th>time</th>\n",
       "      <th>id</th>\n",
       "      <th>rating</th>\n",
       "      <th>issue</th>\n",
       "      <th>region</th>\n",
       "    </tr>\n",
       "  </thead>\n",
       "  <tbody>\n",
       "    <tr>\n",
       "      <th>0</th>\n",
       "      <td>2014-06-01 23:23:16-05:00</td>\n",
       "      <td>233599337</td>\n",
       "      <td>5</td>\n",
       "      <td>NaN</td>\n",
       "      <td>chi</td>\n",
       "    </tr>\n",
       "    <tr>\n",
       "      <th>1</th>\n",
       "      <td>2014-06-01 22:57:50-05:00</td>\n",
       "      <td>233599376</td>\n",
       "      <td>5</td>\n",
       "      <td>NaN</td>\n",
       "      <td>chi</td>\n",
       "    </tr>\n",
       "    <tr>\n",
       "      <th>2</th>\n",
       "      <td>2014-06-01 21:52:38-05:00</td>\n",
       "      <td>233599328</td>\n",
       "      <td>5</td>\n",
       "      <td>NaN</td>\n",
       "      <td>chi</td>\n",
       "    </tr>\n",
       "    <tr>\n",
       "      <th>3</th>\n",
       "      <td>2014-06-01 21:52:04-05:00</td>\n",
       "      <td>233599070</td>\n",
       "      <td>5</td>\n",
       "      <td>NaN</td>\n",
       "      <td>chi</td>\n",
       "    </tr>\n",
       "    <tr>\n",
       "      <th>4</th>\n",
       "      <td>2014-06-01 21:41:43-05:00</td>\n",
       "      <td>233599100</td>\n",
       "      <td>5</td>\n",
       "      <td>NaN</td>\n",
       "      <td>chi</td>\n",
       "    </tr>\n",
       "  </tbody>\n",
       "</table>\n",
       "</div>"
      ],
      "text/plain": [
       "                        time         id  rating issue region\n",
       "0  2014-06-01 23:23:16-05:00  233599337       5   NaN    chi\n",
       "1  2014-06-01 22:57:50-05:00  233599376       5   NaN    chi\n",
       "2  2014-06-01 21:52:38-05:00  233599328       5   NaN    chi\n",
       "3  2014-06-01 21:52:04-05:00  233599070       5   NaN    chi\n",
       "4  2014-06-01 21:41:43-05:00  233599100       5   NaN    chi"
      ]
     },
     "execution_count": 4,
     "metadata": {},
     "output_type": "execute_result"
    }
   ],
   "source": [
    "df.head()"
   ]
  },
  {
   "cell_type": "markdown",
   "metadata": {
    "slideshow": {
     "slide_type": "slide"
    }
   },
   "source": [
    "## Initial count of data\n",
    "\n",
    "- Adding an \"hour\" column would make it easier to aggregate and compare by hours of operation later (first table below).\n",
    "- Second table below shows the total number of order deliveries at each city."
   ]
  },
  {
   "cell_type": "code",
   "execution_count": 606,
   "metadata": {
    "collapsed": false,
    "slideshow": {
     "slide_type": "fragment"
    }
   },
   "outputs": [
    {
     "data": {
      "text/html": [
       "<div>\n",
       "<table border=\"1\" class=\"dataframe\">\n",
       "  <thead>\n",
       "    <tr style=\"text-align: right;\">\n",
       "      <th></th>\n",
       "      <th>time</th>\n",
       "      <th>id</th>\n",
       "      <th>rating</th>\n",
       "      <th>issue</th>\n",
       "      <th>region</th>\n",
       "      <th>hour</th>\n",
       "    </tr>\n",
       "  </thead>\n",
       "  <tbody>\n",
       "    <tr>\n",
       "      <th>0</th>\n",
       "      <td>2014-06-01 23:23:16-05:00</td>\n",
       "      <td>233599337</td>\n",
       "      <td>5</td>\n",
       "      <td>NaN</td>\n",
       "      <td>chi</td>\n",
       "      <td>23</td>\n",
       "    </tr>\n",
       "    <tr>\n",
       "      <th>1</th>\n",
       "      <td>2014-06-01 22:57:50-05:00</td>\n",
       "      <td>233599376</td>\n",
       "      <td>5</td>\n",
       "      <td>NaN</td>\n",
       "      <td>chi</td>\n",
       "      <td>22</td>\n",
       "    </tr>\n",
       "    <tr>\n",
       "      <th>2</th>\n",
       "      <td>2014-06-01 21:52:38-05:00</td>\n",
       "      <td>233599328</td>\n",
       "      <td>5</td>\n",
       "      <td>NaN</td>\n",
       "      <td>chi</td>\n",
       "      <td>21</td>\n",
       "    </tr>\n",
       "    <tr>\n",
       "      <th>3</th>\n",
       "      <td>2014-06-01 21:52:04-05:00</td>\n",
       "      <td>233599070</td>\n",
       "      <td>5</td>\n",
       "      <td>NaN</td>\n",
       "      <td>chi</td>\n",
       "      <td>21</td>\n",
       "    </tr>\n",
       "    <tr>\n",
       "      <th>4</th>\n",
       "      <td>2014-06-01 21:41:43-05:00</td>\n",
       "      <td>233599100</td>\n",
       "      <td>5</td>\n",
       "      <td>NaN</td>\n",
       "      <td>chi</td>\n",
       "      <td>21</td>\n",
       "    </tr>\n",
       "  </tbody>\n",
       "</table>\n",
       "</div>"
      ],
      "text/plain": [
       "                        time         id  rating issue region  hour\n",
       "0  2014-06-01 23:23:16-05:00  233599337       5   NaN    chi    23\n",
       "1  2014-06-01 22:57:50-05:00  233599376       5   NaN    chi    22\n",
       "2  2014-06-01 21:52:38-05:00  233599328       5   NaN    chi    21\n",
       "3  2014-06-01 21:52:04-05:00  233599070       5   NaN    chi    21\n",
       "4  2014-06-01 21:41:43-05:00  233599100       5   NaN    chi    21"
      ]
     },
     "execution_count": 606,
     "metadata": {},
     "output_type": "execute_result"
    }
   ],
   "source": [
    "df['hour'] = df['time'].map(lambda x: pd.to_datetime(x).hour)\n",
    "df.head()"
   ]
  },
  {
   "cell_type": "code",
   "execution_count": 607,
   "metadata": {
    "collapsed": false,
    "slideshow": {
     "slide_type": "skip"
    }
   },
   "outputs": [
    {
     "data": {
      "text/plain": [
       "[('chi', 6430), ('nyc', 1290), ('sf', 7237)]"
      ]
     },
     "execution_count": 607,
     "metadata": {},
     "output_type": "execute_result"
    }
   ],
   "source": [
    "#Size of dataset by cities\n",
    "[(city, len(df[df.region==city])) for city in cities_list]"
   ]
  },
  {
   "cell_type": "code",
   "execution_count": 608,
   "metadata": {
    "collapsed": false,
    "slideshow": {
     "slide_type": "fragment"
    }
   },
   "outputs": [
    {
     "data": {
      "text/html": [
       "<div>\n",
       "<table border=\"1\" class=\"dataframe\">\n",
       "  <thead>\n",
       "    <tr style=\"text-align: right;\">\n",
       "      <th></th>\n",
       "      <th>count</th>\n",
       "    </tr>\n",
       "    <tr>\n",
       "      <th>region</th>\n",
       "      <th></th>\n",
       "    </tr>\n",
       "  </thead>\n",
       "  <tbody>\n",
       "    <tr>\n",
       "      <th>chi</th>\n",
       "      <td>6430</td>\n",
       "    </tr>\n",
       "    <tr>\n",
       "      <th>nyc</th>\n",
       "      <td>1290</td>\n",
       "    </tr>\n",
       "    <tr>\n",
       "      <th>sf</th>\n",
       "      <td>7237</td>\n",
       "    </tr>\n",
       "  </tbody>\n",
       "</table>\n",
       "</div>"
      ],
      "text/plain": [
       "        count\n",
       "region       \n",
       "chi      6430\n",
       "nyc      1290\n",
       "sf       7237"
      ]
     },
     "execution_count": 608,
     "metadata": {},
     "output_type": "execute_result"
    }
   ],
   "source": [
    "df.groupby('region').agg(['count'])['id']"
   ]
  },
  {
   "cell_type": "code",
   "execution_count": 609,
   "metadata": {
    "collapsed": false,
    "slideshow": {
     "slide_type": "skip"
    }
   },
   "outputs": [
    {
     "data": {
      "text/html": [
       "<div>\n",
       "<table border=\"1\" class=\"dataframe\">\n",
       "  <thead>\n",
       "    <tr style=\"text-align: right;\">\n",
       "      <th></th>\n",
       "      <th>count</th>\n",
       "    </tr>\n",
       "    <tr>\n",
       "      <th>region</th>\n",
       "      <th></th>\n",
       "    </tr>\n",
       "  </thead>\n",
       "  <tbody>\n",
       "    <tr>\n",
       "      <th>chi</th>\n",
       "      <td>272</td>\n",
       "    </tr>\n",
       "    <tr>\n",
       "      <th>nyc</th>\n",
       "      <td>122</td>\n",
       "    </tr>\n",
       "    <tr>\n",
       "      <th>sf</th>\n",
       "      <td>693</td>\n",
       "    </tr>\n",
       "  </tbody>\n",
       "</table>\n",
       "</div>"
      ],
      "text/plain": [
       "        count\n",
       "region       \n",
       "chi       272\n",
       "nyc       122\n",
       "sf        693"
      ]
     },
     "execution_count": 609,
     "metadata": {},
     "output_type": "execute_result"
    }
   ],
   "source": [
    "df.groupby('region').agg(['count'])['issue']"
   ]
  },
  {
   "cell_type": "markdown",
   "metadata": {
    "slideshow": {
     "slide_type": "slide"
    }
   },
   "source": [
    "## Percentage of orders where customer reported an issue (by region)\n",
    "\n",
    "- Below are the percentages of orders in which users reported an issue.\n",
    "\n",
    "\n",
    "- Chicago did the best in terms of fewest % of issues reported by users.\n",
    "    - NYC and SF both have more than the DOUBLE the incidence of customer reported issues."
   ]
  },
  {
   "cell_type": "code",
   "execution_count": 433,
   "metadata": {
    "collapsed": false,
    "slideshow": {
     "slide_type": "fragment"
    }
   },
   "outputs": [
    {
     "data": {
      "text/html": [
       "<div>\n",
       "<table border=\"1\" class=\"dataframe\">\n",
       "  <thead>\n",
       "    <tr style=\"text-align: right;\">\n",
       "      <th></th>\n",
       "      <th>count</th>\n",
       "    </tr>\n",
       "    <tr>\n",
       "      <th>region</th>\n",
       "      <th></th>\n",
       "    </tr>\n",
       "  </thead>\n",
       "  <tbody>\n",
       "    <tr>\n",
       "      <th>chi</th>\n",
       "      <td>4.230171</td>\n",
       "    </tr>\n",
       "    <tr>\n",
       "      <th>nyc</th>\n",
       "      <td>9.457364</td>\n",
       "    </tr>\n",
       "    <tr>\n",
       "      <th>sf</th>\n",
       "      <td>9.575791</td>\n",
       "    </tr>\n",
       "  </tbody>\n",
       "</table>\n",
       "</div>"
      ],
      "text/plain": [
       "           count\n",
       "region          \n",
       "chi     4.230171\n",
       "nyc     9.457364\n",
       "sf      9.575791"
      ]
     },
     "execution_count": 433,
     "metadata": {},
     "output_type": "execute_result"
    }
   ],
   "source": [
    "df.groupby('region').agg(['count'])['issue'] * 100 / df.groupby('region').agg(['count'])['id']"
   ]
  },
  {
   "cell_type": "code",
   "execution_count": 423,
   "metadata": {
    "collapsed": false,
    "slideshow": {
     "slide_type": "skip"
    }
   },
   "outputs": [
    {
     "data": {
      "text/plain": [
       "count    0.009823\n",
       "dtype: float64"
      ]
     },
     "execution_count": 423,
     "metadata": {},
     "output_type": "execute_result"
    }
   ],
   "source": [
    "print ''\n",
    "print sum(df.groupby('id').agg(['count'])['time'] > 2)*1.0 / len(unique(df['id']))"
   ]
  },
  {
   "cell_type": "markdown",
   "metadata": {
    "slideshow": {
     "slide_type": "slide"
    }
   },
   "source": [
    "## Customer ratings breakdown by region"
   ]
  },
  {
   "cell_type": "code",
   "execution_count": 541,
   "metadata": {
    "collapsed": false,
    "slideshow": {
     "slide_type": "slide"
    }
   },
   "outputs": [
    {
     "data": {
      "image/png": "[encoded data removed]",
      "text/plain": [
       "<matplotlib.figure.Figure at 0x127bec890>"
      ]
     },
     "metadata": {},
     "output_type": "display_data"
    }
   ],
   "source": [
    "plt.title(\"New York City Customer Ratings by Percentage\", fontsize=20)\n",
    "labels = [str(num) for num in xrange(6)]\n",
    "fracs = [item for sublist in df[df.region=='nyc'].groupby('rating').agg(['count'])['id'].values for item in sublist]\n",
    "plt.pie(fracs, labels=labels, autopct='%1.1f%%', shadow=True)\n",
    "plt.show()"
   ]
  },
  {
   "cell_type": "code",
   "execution_count": 542,
   "metadata": {
    "collapsed": false,
    "slideshow": {
     "slide_type": "slide"
    }
   },
   "outputs": [
    {
     "data": {
      "image/png": "[encoded data removed]",
      "text/plain": [
       "<matplotlib.figure.Figure at 0x126d06450>"
      ]
     },
     "metadata": {},
     "output_type": "display_data"
    }
   ],
   "source": [
    "plt.title(\"San Francisco Ratings by Percentage\", fontsize=20)\n",
    "labels = [str(num) for num in xrange(6)]\n",
    "fracs = [item for sublist in df[df.region=='sf'].groupby('rating').agg(['count'])['id'].values for item in sublist]\n",
    "plt.pie(fracs, labels=labels, autopct='%1.1f%%', shadow=True)\n",
    "plt.show()"
   ]
  },
  {
   "cell_type": "code",
   "execution_count": 543,
   "metadata": {
    "collapsed": false,
    "slideshow": {
     "slide_type": "slide"
    }
   },
   "outputs": [
    {
     "data": {
      "image/png": "[encoded data removed]",
      "text/plain": [
       "<matplotlib.figure.Figure at 0x1284399d0>"
      ]
     },
     "metadata": {},
     "output_type": "display_data"
    }
   ],
   "source": [
    "plt.title(\"Chicago Customer Ratings by Percentage\", fontsize=20)\n",
    "labels = [str(num) for num in xrange(6)]\n",
    "fracs = [item for sublist in df[df.region=='chi'].groupby('rating').agg(['count'])['id'].values for item in sublist]\n",
    "plt.pie(fracs, labels=labels, autopct='%1.1f%%', shadow=True)\n",
    "plt.show()"
   ]
  },
  {
   "cell_type": "markdown",
   "metadata": {
    "slideshow": {
     "slide_type": "slide"
    }
   },
   "source": [
    "## Overall customer satisfaction by region\n",
    "- Chicago leads all three cities in terms of the fewest percentage of customer issues and the highest percentage of 5-stars ratings.\n",
    "    - This suggests an inverse relationship between the incidence of issues reported and customer rating (will revisit this later).\n",
    "- Mean rating for each city is shown below. As expected, Chicago has the highest average customer rating.\n",
    "    - Below are calculations to determine wether the difference in average customer rating between Chi/NYC and Chi/SF are statistically significant. The p-values are extremely low for both: Chicago's higher avg customer rating is statistically significant.\n",
    "- In order to assess / improve the business, it might be worthwhile to investigate what Chicago is doing differently in order to gain some insights."
   ]
  },
  {
   "cell_type": "code",
   "execution_count": 594,
   "metadata": {
    "collapsed": false,
    "slideshow": {
     "slide_type": "fragment"
    }
   },
   "outputs": [
    {
     "name": "stdout",
     "output_type": "stream",
     "text": [
      "Mean customer rating for chi : 4.71181959565\n",
      "Mean customer rating for nyc : 4.43100775194\n",
      "Mean customer rating for sf : 4.44438303164\n"
     ]
    }
   ],
   "source": [
    "rating = dict()\n",
    "for city in cities_list:\n",
    "    print 'Mean customer rating for', city, \":\", sum([count * rating for count, rating in enumerate(df[df.region==city].groupby('rating').agg('count')['id'])])*1.0/len(df[df.region==city])"
   ]
  },
  {
   "cell_type": "code",
   "execution_count": 595,
   "metadata": {
    "collapsed": false,
    "slideshow": {
     "slide_type": "fragment"
    }
   },
   "outputs": [
    {
     "name": "stdout",
     "output_type": "stream",
     "text": [
      "Ttest_indResult(statistic=10.698272389670421, pvalue=1.5900512143011007e-26)\n",
      "Ttest_indResult(statistic=15.823898128844453, pvalue=6.6719742699582359e-56)\n"
     ]
    }
   ],
   "source": [
    "from scipy.stats import ttest_ind\n",
    "print ttest_ind(df[df.region=='chi']['rating'], df[df.region=='nyc']['rating'])\n",
    "print ttest_ind(df[df.region=='chi']['rating'], df[df.region=='sf']['rating'])"
   ]
  },
  {
   "cell_type": "markdown",
   "metadata": {
    "slideshow": {
     "slide_type": "slide"
    }
   },
   "source": [
    "## Breakdown of customer issues reported by region "
   ]
  },
  {
   "cell_type": "code",
   "execution_count": 597,
   "metadata": {
    "collapsed": false,
    "slideshow": {
     "slide_type": "slide"
    }
   },
   "outputs": [
    {
     "name": "stdout",
     "output_type": "stream",
     "text": [
      "Customer issues breakdown for chi issue\n",
      "Damaged or spoiled          0.375000\n",
      "Item charged incorrectly    0.047794\n",
      "Item missing                0.180147\n",
      "Other Order Issue           0.025735\n",
      "Poor replacement            0.014706\n",
      "Poor service                0.055147\n",
      "Wrong item                  0.301471\n",
      "Name: id, dtype: float64\n",
      "Customer issues breakdown for nyc issue\n",
      "Damaged or spoiled          0.434426\n",
      "Item charged incorrectly    0.024590\n",
      "Item missing                0.081967\n",
      "Other Order Issue           0.032787\n",
      "Poor replacement            0.073770\n",
      "Poor service                0.122951\n",
      "Wrong item                  0.229508\n",
      "Name: id, dtype: float64\n",
      "Customer issues breakdown for sf issue\n",
      "Damaged or spoiled          0.223665\n",
      "Item charged incorrectly    0.007215\n",
      "Item missing                0.171717\n",
      "Other Order Issue           0.014430\n",
      "Poor replacement            0.059163\n",
      "Poor service                0.142857\n",
      "Wrong item                  0.380952\n",
      "Name: id, dtype: float64\n"
     ]
    }
   ],
   "source": [
    "for city in cities_list:\n",
    "    print \"Customer issues breakdown for\", city, df[df.region==city].groupby('issue').agg('count')['id'] / sum(df[df.region==city].groupby('issue').agg('count')['id'])"
   ]
  },
  {
   "cell_type": "markdown",
   "metadata": {
    "slideshow": {
     "slide_type": "slide"
    }
   },
   "source": [
    "## Types of customer issues reported by region and Customer Support staffing\n",
    "- Looking at the table from the previous page, Chicago does not have a lower incidence in any type of reported issue EXCEPT in \"Poor service\".\n",
    "    - In all the other types of issues, Chicago either has either the highest percentage or the second-highest percentage.\n",
    "\n",
    "\n",
    "- It might be possible that the most commonly reported issue for all three cities, \"Damaged or spoiled\" items, DOES NOT significantly contribute to lower customer satisfaction. \n",
    "    - NYC has a higher prevalence of \"Damaged or spoiled\" item compared to San Francisco, yet NYC's average customer rating is about the same as that of SF.\n",
    "    - Preventing this issue from occuring might not result in significantly higher customer satisfaction.\n",
    "   \n",
    "   \n",
    "- The incidence of reported \"Poor service\" in Chicago is more than 50% LOWER than the other cities. This could be one of the keys to improving customer satisfaction for the company.\n",
    "    - By honing in on the causes of \"Poor service\" complaints, we can figure out specifically what the Chicago team is doing well to prevent \"Poor service\" from being reported by customers.\n",
    "    \n",
    "    \n",
    "- Based on this observation, it might make sense to increase the number of Customer Support staff for NYC and SF in order to actively reduce the incidence of \"Poor service\" reported by customers in those cities."
   ]
  },
  {
   "cell_type": "code",
   "execution_count": 726,
   "metadata": {
    "collapsed": false,
    "slideshow": {
     "slide_type": "skip"
    }
   },
   "outputs": [],
   "source": [
    "l = (df[df.region=='chi'].groupby('hour').agg(['count'])['issue'] / sum(df[df.region=='chi'].groupby('hour').agg(['count'])['issue'])).values\n",
    "x = df[df.region=='chi'].groupby('hour').agg('count').index.values\n",
    "y = [item for sublist in l for item in sublist]\n",
    "\n",
    "chi_hrs = dict()\n",
    "for h in range(24):\n",
    "    if h in chi_hrs:\n",
    "        chi_hrs[h] += 1\n",
    "    else:\n",
    "        chi_hrs[h] = 0\n",
    "for idx, hr in enumerate(x):\n",
    "    chi_hrs[hr] = y[idx]"
   ]
  },
  {
   "cell_type": "code",
   "execution_count": 727,
   "metadata": {
    "collapsed": true,
    "slideshow": {
     "slide_type": "skip"
    }
   },
   "outputs": [],
   "source": [
    "l = (df[df.region=='nyc'].groupby('hour').agg(['count'])['issue'] / sum(df[df.region=='nyc'].groupby('hour').agg(['count'])['issue'])).values\n",
    "x = df[df.region=='nyc'].groupby('hour').agg('count').index.values\n",
    "y = [item for sublist in l for item in sublist]\n",
    "\n",
    "nyc_hrs = dict()\n",
    "for h in range(24):\n",
    "    if h in nyc_hrs:\n",
    "        nyc_hrs[h] += 1\n",
    "    else:\n",
    "        nyc_hrs[h] = 0\n",
    "for idx, hr in enumerate(x):\n",
    "    nyc_hrs[hr] = y[idx]"
   ]
  },
  {
   "cell_type": "code",
   "execution_count": 765,
   "metadata": {
    "collapsed": false,
    "slideshow": {
     "slide_type": "slide"
    }
   },
   "outputs": [
    {
     "data": {
      "image/png": "[encoded data removed]",
      "text/plain": [
       "<matplotlib.figure.Figure at 0x127bec1d0>"
      ]
     },
     "metadata": {},
     "output_type": "display_data"
    }
   ],
   "source": [
    "plt.bar(range(len(chi_hrs.values())), chi_hrs.values(), alpha=0.5, label='Chicago')\n",
    "plt.bar(range(len(nyc_hrs.values())), nyc_hrs.values(), alpha=0.5, label='New York', color = \"red\")\n",
    "plt.title(\"Histogram of reported issues by local delivery hours\", fontsize=20)\n",
    "plt.legend(loc='upper left')\n",
    "plt.show()"
   ]
  },
  {
   "cell_type": "markdown",
   "metadata": {
    "slideshow": {
     "slide_type": "slide"
    }
   },
   "source": [
    "## Evening rush-hour deliveries and Customer Support Team staffing\n",
    "- From the histogram in the previous page:\n",
    "    - For NYC, a large percentage of complaints occurred within evening rush hours (~47% of complaints between 4pm and 7pm)\n",
    "    - For Chicago, most of the complaints occurred outside of evening rush hours (~41% between 10am and 4pm, ~40% between 6pm and 9pm)\n",
    "    \n",
    "    \n",
    "- Based on this observation, it might make sense to increase Customer Support staff during evening rush hours for NYC and during the non-evening rush hours for Chicago.\n",
    "    \n",
    "    \n",
    "- Based on this observation, it might be worthwhile to test whether lowering the number of deliveries during evening rush hours (in NYC and potentially other cities as well) can help to decrease the incidence of issues reported by customer, thereby increasing customer rating. "
   ]
  },
  {
   "cell_type": "code",
   "execution_count": 759,
   "metadata": {
    "collapsed": false,
    "slideshow": {
     "slide_type": "skip"
    }
   },
   "outputs": [],
   "source": [
    "l = (df[df.region=='sf'].groupby(\"hour\").agg(['mean'])['rating']).values\n",
    "x = df[df.region=='sf'].groupby(\"hour\").agg(['mean'])['rating'].index.values\n",
    "y = [item for sublist in l for item in sublist]\n",
    "\n",
    "sf_hrs = dict()\n",
    "for h in range(24):\n",
    "    if h in sf_hrs:\n",
    "        sf_hrs[h] += 1\n",
    "    else:\n",
    "        sf_hrs[h] = 0\n",
    "for idx, hr in enumerate(x):\n",
    "    sf_hrs[hr] = y[idx]"
   ]
  },
  {
   "cell_type": "code",
   "execution_count": 778,
   "metadata": {
    "collapsed": false,
    "slideshow": {
     "slide_type": "slide"
    }
   },
   "outputs": [
    {
     "data": {
      "image/png": "[encoded data removed]",
      "text/plain": [
       "<matplotlib.figure.Figure at 0x123c6a850>"
      ]
     },
     "metadata": {},
     "output_type": "display_data"
    }
   ],
   "source": [
    "plt.plot(sf_hrs.values(), alpha=0.5, label='San Francisco')\n",
    "plt.title(\"Customer Ratings by Local Delivery Hours\", fontsize=20)\n",
    "plt.legend(loc='upper left')\n",
    "plt.show()"
   ]
  },
  {
   "cell_type": "markdown",
   "metadata": {
    "slideshow": {
     "slide_type": "slide"
    }
   },
   "source": [
    "## The \"graveyard shift\": Relationship between customer rating and delivery hours\n",
    "\n",
    "- In San Francisco, customer ratings dropped significantly for deliveries during the \"graveyard shift\" (between midnight and ~7am).\n",
    "\n",
    "\n",
    "- There are NO deliveries (at least from the dataset) for Chicago and NYC during the graveyard shift. It would be surprising that there are customer orders during the \"graveyard shift\" in SF but not in Chicago or NYC. Therefore:\n",
    "    - This could be due to data quality/reporting issue.\n",
    "    - This could also be due to the fact that the company does not operate during these hours for Chicago and NYC.\n",
    "\n",
    "\n",
    "- This noticeable difference suggests a few action steps:\n",
    "    - Increase the number of Customer support staff during the graveyard shift in San Francisco in an effort to improve customer rating.\n",
    "    - Calculate the cost and benefit of the company exiting the graveyard shift entirely in SF. One of the costs of operating during the graveyard shift is the Customer Support staff. If revenue is not enough to offset this and other expenses, then it might make sense not to operate during these hours to reduce the number of low customer ratings."
   ]
  },
  {
   "cell_type": "code",
   "execution_count": 882,
   "metadata": {
    "collapsed": false,
    "slideshow": {
     "slide_type": "slide"
    }
   },
   "outputs": [
    {
     "data": {
      "image/png": "[encoded data removed]",
      "text/plain": [
       "<matplotlib.figure.Figure at 0x124a71b50>"
      ]
     },
     "metadata": {},
     "output_type": "display_data"
    }
   ],
   "source": [
    "plt.bar(range(1,6), x, alpha=0.5, color = \"red\",align='center')\n",
    "plt.title(\"Incidence of reported issues by customer rating\", fontsize=20)\n",
    "plt.show();"
   ]
  },
  {
   "cell_type": "markdown",
   "metadata": {
    "slideshow": {
     "slide_type": "slide"
    }
   },
   "source": [
    "## Correlation between incidence of issues reported and customer rating\n",
    "\n",
    "- As seen from the barchart on the previous page, as customer rating goes up, the incidence of reported issues go down (as expected).\n",
    "\n",
    "- But does the composition of customer issues change at different customer rating level?"
   ]
  },
  {
   "cell_type": "code",
   "execution_count": 883,
   "metadata": {
    "collapsed": false,
    "slideshow": {
     "slide_type": "slide"
    }
   },
   "outputs": [
    {
     "data": {
      "text/plain": [
       "rating  issue                   \n",
       "1       Damaged or spoiled          0.289941\n",
       "        Item charged incorrectly    0.005917\n",
       "        Item missing                0.189349\n",
       "        Other Order Issue           0.017751\n",
       "        Poor replacement            0.088757\n",
       "        Poor service                0.230769\n",
       "        Wrong item                  0.177515\n",
       "2       Damaged or spoiled          0.268041\n",
       "        Item charged incorrectly    0.005155\n",
       "        Item missing                0.211340\n",
       "        Other Order Issue           0.010309\n",
       "        Poor replacement            0.036082\n",
       "        Poor service                0.118557\n",
       "        Wrong item                  0.350515\n",
       "3       Damaged or spoiled          0.313070\n",
       "        Item missing                0.121581\n",
       "        Other Order Issue           0.021277\n",
       "        Poor replacement            0.063830\n",
       "        Poor service                0.100304\n",
       "        Wrong item                  0.379939\n",
       "4       Damaged or spoiled          0.263158\n",
       "        Item charged incorrectly    0.035088\n",
       "        Item missing                0.140351\n",
       "        Other Order Issue           0.021053\n",
       "        Poor replacement            0.028070\n",
       "        Poor service                0.091228\n",
       "        Wrong item                  0.421053\n",
       "5       Damaged or spoiled          0.271028\n",
       "        Item charged incorrectly    0.084112\n",
       "        Item missing                0.233645\n",
       "        Other Order Issue           0.028037\n",
       "        Poor replacement            0.018692\n",
       "        Poor service                0.074766\n",
       "        Wrong item                  0.289720\n",
       "dtype: float64"
      ]
     },
     "execution_count": 883,
     "metadata": {},
     "output_type": "execute_result"
    }
   ],
   "source": [
    "(df.groupby(['rating','issue']).agg('count')['id'] / df.groupby(['rating']).agg('count')['issue'])[2:]"
   ]
  },
  {
   "cell_type": "markdown",
   "metadata": {
    "slideshow": {
     "slide_type": "slide"
    }
   },
   "source": [
    "## Observations on the types of issues reported as rating changes\n",
    "\n",
    "- As previously observed, \"Poor service\" could be one of the keys to reducing the incidence of total issues reported by customers.\n",
    "\n",
    "\n",
    "- From the table on the previous page, the incidence of \"Poor service\" increases rapidly as customer rating deteriorates. \n",
    "    - This suggests that \"Poor service\" is a major contributor to very low customer satisfaction.\n",
    "\n",
    "\n",
    "- On the otherhand, the incidence of \"Wrong item\" is quite high at the high range of customer rating (peaks at a rating of 4) but then decreases rapidly at the lower end of customer rating. \n",
    "    - This suggests that \"Wrong item\" is not a big contributor to very low customer satisfaction.\n",
    "    - But reducing the incidence of \"Wrong item\" could be a good goal for those customers who are already quite satisfied.\n",
    "    \n",
    "- This suggests that Customer Support Team could be staffed by different types of personnel:\n",
    "    - Those who are trained to handle \"Poor service\" cases for customers with very low satisfaction.  \n",
    "    - Those who are trained to reduce the incidence \"Wrong item\" for the highly satisfied customers.\n",
    "    "
   ]
  }
 ],
 "metadata": {
  "celltoolbar": "Slideshow",
  "kernelspec": {
   "display_name": "Python 2",
   "language": "python",
   "name": "python2"
  },
  "language_info": {
   "codemirror_mode": {
    "name": "ipython",
    "version": 2
   },
   "file_extension": ".py",
   "mimetype": "text/x-python",
   "name": "python",
   "nbconvert_exporter": "python",
   "pygments_lexer": "ipython2",
   "version": "2.7.11"
  }
 },
 "nbformat": 4,
 "nbformat_minor": 0
}
